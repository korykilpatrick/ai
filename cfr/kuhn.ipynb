{
  "nbformat": 4,
  "nbformat_minor": 0,
  "metadata": {
    "colab": {
      "provenance": []
    },
    "kernelspec": {
      "name": "python3",
      "display_name": "Python 3"
    },
    "language_info": {
      "name": "python"
    }
  },
  "cells": [
    {
      "cell_type": "markdown",
      "source": [
        "KUHN POKER\n",
        "1. A deck of 3 cards is used.\n",
        "2. Each player is dealt one card.\n",
        "3. Player 1 can either bet (1) or check (0).\n",
        "  If player 1 checks, player 2 can either bet or check.\n",
        "  If player 2 checks, the player with the higher card wins the pot.\n",
        "  If player 2 bets, the action goes back to player 1 who can either call or fold.\n",
        "4. If player 1 bets, player 2 can call or fold."
      ],
      "metadata": {
        "id": "TVeJJ8gQdpkZ"
      }
    },
    {
      "cell_type": "code",
      "source": [
        "import numpy as np\n",
        "from random import shuffle\n",
        "\n",
        "NUM_ACTIONS, NUM_CARDS = 2, 3\n",
        "action_map = {0: 'p', 1: 'b'}"
      ],
      "metadata": {
        "id": "UMeyyuQlMtzz"
      },
      "execution_count": 3,
      "outputs": []
    },
    {
      "cell_type": "code",
      "source": [
        "class Node:\n",
        "  def __init__(self):\n",
        "    self.regret_sum = np.zeros(NUM_ACTIONS)\n",
        "    self.strategy_sum = np.zeros(NUM_ACTIONS)\n",
        "    self.visits = 0\n",
        "\n",
        "  def get_strategy(self, realization_weight):\n",
        "    strategy = np.maximum(self.regret_sum, 0)\n",
        "    normalizing_sum = np.sum(strategy)\n",
        "\n",
        "    if normalizing_sum > 0:\n",
        "      strategy /= normalizing_sum\n",
        "    else:\n",
        "      strategy += np.repeat(1/NUM_ACTIONS, NUM_ACTIONS)\n",
        "\n",
        "    self.strategy_sum += realization_weight * strategy\n",
        "    return strategy\n",
        "\n",
        "  def get_average_strategy(self):\n",
        "    total = np.sum(self.strategy_sum)\n",
        "    if total > 0:\n",
        "      return self.strategy_sum / total\n",
        "    else:\n",
        "      return np.repeat(1/NUM_ACTIONS, NUM_ACTIONS)"
      ],
      "metadata": {
        "id": "E3Zpy7ma3XUj"
      },
      "execution_count": 4,
      "outputs": []
    },
    {
      "cell_type": "code",
      "source": [
        "class KuhnPoker:\n",
        "  def __init__(self):\n",
        "    self.cards = np.array([0, 1, 2])\n",
        "    self.nodes = {}\n",
        "\n",
        "  def train(self, n=1000):\n",
        "    for i in range(n):\n",
        "      shuffle(self.cards)\n",
        "      self.cfr(\"\", 1, 1)\n",
        "\n",
        "  def cfr(self, history, p1_reach_prob, p2_reach_prob):\n",
        "    player = len(history) % 2\n",
        "    if self.is_terminal(history):\n",
        "      return self.calculate_payoff(history)\n",
        "\n",
        "    info_set = f\"{self.cards[player]}{history}\"\n",
        "    node = self.get_node(info_set)\n",
        "    strategy = node.get_strategy(p1_reach_prob if player == 0 else p2_reach_prob)\n",
        "    action_probs = strategy.copy()\n",
        "    action_probs *= p1_reach_prob if player == 0 else p2_reach_prob\n",
        "\n",
        "    node_util = 0\n",
        "    action_utils = np.zeros(2)\n",
        "    for action in range(2):\n",
        "        next_history = f\"{history}{action_map[action]}\"\n",
        "        if player == 0:\n",
        "            action_utils[action] = -self.cfr(next_history, action_probs[action], p2_reach_prob)\n",
        "        else:\n",
        "            action_utils[action] = -self.cfr(next_history, p1_reach_prob, action_probs[action])\n",
        "        node_util += strategy[action] * action_utils[action]\n",
        "\n",
        "    reach_prob_opponent = p2_reach_prob if player == 0 else p1_reach_prob\n",
        "    node.regret_sum += (action_utils - node_util) * reach_prob_opponent\n",
        "\n",
        "    return node_util\n",
        "\n",
        "  @staticmethod\n",
        "  def is_terminal(history):\n",
        "    return len(history) > 1 and history[-2:] in ['pp', 'bb', 'bp']\n",
        "\n",
        "  def calculate_payoff(self, history):\n",
        "    player_card = self.cards[len(history) % 2]\n",
        "    opponent_card = self.cards[1 - len(history) % 2]\n",
        "\n",
        "    if history[-1] == 'p':\n",
        "        return -1 if history[-2] == 'p' and player_card < opponent_card else 1\n",
        "    elif history[-1] == 'b':\n",
        "        return 2 if player_card > opponent_card else -2\n",
        "\n",
        "  def get_node(self, info_set):\n",
        "    if not self.nodes.get(info_set):\n",
        "      self.nodes[info_set] = Node()\n",
        "    self.nodes[info_set].visits += 1\n",
        "    return self.nodes[info_set]\n",
        "\n",
        "  def print_strategy(self):\n",
        "    for info_set, node in self.nodes.items():\n",
        "      print(f\"Info Set {info_set}: {np.round(node.get_average_strategy(), decimals=2)}, {node.visits}\")\n"
      ],
      "metadata": {
        "id": "ywxCE12kXLXM"
      },
      "execution_count": 16,
      "outputs": []
    },
    {
      "cell_type": "code",
      "source": [
        "game = KuhnPoker()\n",
        "game.train(n=1000000)\n",
        "game.print_strategy()"
      ],
      "metadata": {
        "id": "aE3AoXr3NfhY",
        "colab": {
          "base_uri": "https://localhost:8080/"
        },
        "outputId": "af7bf3a8-0dfe-4f28-b390-63e75383b278"
      },
      "execution_count": 18,
      "outputs": [
        {
          "output_type": "stream",
          "name": "stdout",
          "text": [
            "Info Set 2: [0.18 0.82], 333462\n",
            "Info Set 0p: [0.67 0.33], 333380\n",
            "Info Set 2pb: [0. 1.], 333462\n",
            "Info Set 0b: [1. 0.], 333380\n",
            "Info Set 0: [0.73 0.27], 333277\n",
            "Info Set 1p: [1. 0.], 333228\n",
            "Info Set 0pb: [1. 0.], 333277\n",
            "Info Set 1b: [0.67 0.33], 333228\n",
            "Info Set 1: [1. 0.], 333261\n",
            "Info Set 1pb: [0.39 0.61], 333261\n",
            "Info Set 2p: [0. 1.], 333392\n",
            "Info Set 2b: [0. 1.], 333392\n"
          ]
        }
      ]
    },
    {
      "cell_type": "code",
      "source": [
        "\n",
        "\n",
        "\n",
        "\n",
        "\n",
        "\n",
        "\n",
        "\n",
        "\n",
        "\n",
        "\n",
        "\n",
        "\n",
        "\n",
        "\n",
        "\n",
        "\n",
        "\n",
        "\n",
        "\n",
        "\n",
        "\n",
        "\n",
        "\n",
        "\n",
        "\n",
        "\n",
        "\n",
        "\n",
        "\n",
        "\n",
        "\n",
        "\n",
        "\n",
        "\n",
        "\n",
        "\n",
        "\n"
      ],
      "metadata": {
        "id": "pa_uXzwiNOFw"
      },
      "execution_count": null,
      "outputs": []
    }
  ]
}